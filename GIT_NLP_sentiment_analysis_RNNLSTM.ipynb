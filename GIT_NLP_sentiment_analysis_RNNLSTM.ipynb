{
 "cells": [
  {
   "cell_type": "code",
   "execution_count": 1,
   "id": "72cb79a2",
   "metadata": {},
   "outputs": [],
   "source": [
    "import pandas as pd\n",
    "from random import seed, randrange\n",
    "import math\n",
    "import matplotlib.pyplot as plt\n",
    "import seaborn as sns\n",
    "import warnings\n",
    "warnings.filterwarnings(\"ignore\")\n",
    "import re\n",
    "import nltk\n",
    "from nltk.stem import WordNetLemmatizer\n",
    "from sklearn.metrics import fbeta_score\n",
    "from sklearn.model_selection import cross_val_score\n",
    "import tensorflow as tf\n",
    "from tensorflow.keras.layers import Embedding\n",
    "from tensorflow.keras.preprocessing.sequence import pad_sequences\n",
    "from tensorflow.keras.models import Sequential\n",
    "from tensorflow.keras.preprocessing.text import one_hot\n",
    "from tensorflow.keras.layers import LSTM\n",
    "from tensorflow.keras.layers import Dense"
   ]
  },
  {
   "cell_type": "code",
   "execution_count": 2,
   "id": "a86ded14",
   "metadata": {},
   "outputs": [],
   "source": [
    "# we need to remove some stopwords form the nltk library stopwords so that we can classify the negative and postive reviews properly\n",
    "# so we will be making our own customized stopwords"
   ]
  },
  {
   "cell_type": "code",
   "execution_count": 3,
   "id": "5b030867",
   "metadata": {},
   "outputs": [],
   "source": [
    "stopwords = ['from', \"she's\", 'theirs', 'be', 'won', 'shouldn', 'should', 'or', 'were', 'she', \"shouldn't\", 'until', 'himself', 'd', 'at', 'than', 'aren', \"doesn't\", 've', 'o', 'mustn', \"you've\", 'ours', 'wasn', 'but', 'once', 'there', \"didn't\", 'we', 'has', 'am', 'of', 'own', \"you'd\", 'in', 'he', \"shan't\", \"mightn't\", \"don't\", 'having', 'with', 'my', 'its', 'had', 'y', 'yourselves', 'didn', 'your', 'each', \"haven't\", 'yourself', 'and', 'is', 'nor', 'who', 'whom', 'couldn', 'this', 'mightn', 'shan', 'have', 'for', 'her', 'hers', 'other', 'during', 'herself', 'themselves', 'here', 'them', 's', 'hadn', \"it's\", 'so', \"mustn't\", 'did', 'about', 'after', \"hadn't\", 'haven', \"you'll\", 'can', 'just', 'isn', 'the', 'our', 'by', 'further', 'do', 'on', 're', 'doing', \"aren't\", 'off', 'some', 'an', 'only', 'over', 'me', 'while', 'will', 'too', 'i', 'under', 'more', \"you're\", 'their', 'you', 'as', 'ourselves', 'both', 'where', 'then', \"hasn't\", \"weren't\", \"won't\", 'before', 'are', \"wouldn't\", 'needn', 'because', 'doesn', 'into', 'that', 'between', \"wasn't\", 'it', 'him', 'up', 'above', 'his', 'these', 'm', 'been', \"couldn't\", 'to', 'those', 'same', 'don', 'out', 'ma', 'below', 'being', 'such', 'what', 'wouldn', \"that'll\", 'itself', 'hasn', \"isn't\", 'again', 'through', 'very', 'll', 'which', 'when', \"should've\", 'any', 't', 'how', 'all', \"needn't\", 'yours', 'weren', 'myself', 'a', 'they', 'if', 'ain', 'does', 'was', 'now', 'most', 'why']"
   ]
  },
  {
   "cell_type": "code",
   "execution_count": 4,
   "id": "9b0a4f6f",
   "metadata": {},
   "outputs": [],
   "source": [
    "dataset = pd.read_csv(r\"C:/Users/shekh/Desktop/NLP Sentiment Analysis/amazon.txt\",\n",
    "                 delimiter=\"\\t\",header=None,names=[\"review\",\"sentiment\"])"
   ]
  },
  {
   "cell_type": "code",
   "execution_count": 5,
   "id": "4fbcbb10",
   "metadata": {},
   "outputs": [
    {
     "data": {
      "text/plain": [
       "(1000, 2)"
      ]
     },
     "execution_count": 5,
     "metadata": {},
     "output_type": "execute_result"
    }
   ],
   "source": [
    "dataset.shape"
   ]
  },
  {
   "cell_type": "code",
   "execution_count": 6,
   "id": "df6cfbfe",
   "metadata": {},
   "outputs": [
    {
     "data": {
      "text/html": [
       "<div>\n",
       "<style scoped>\n",
       "    .dataframe tbody tr th:only-of-type {\n",
       "        vertical-align: middle;\n",
       "    }\n",
       "\n",
       "    .dataframe tbody tr th {\n",
       "        vertical-align: top;\n",
       "    }\n",
       "\n",
       "    .dataframe thead th {\n",
       "        text-align: right;\n",
       "    }\n",
       "</style>\n",
       "<table border=\"1\" class=\"dataframe\">\n",
       "  <thead>\n",
       "    <tr style=\"text-align: right;\">\n",
       "      <th></th>\n",
       "      <th>review</th>\n",
       "      <th>sentiment</th>\n",
       "    </tr>\n",
       "  </thead>\n",
       "  <tbody>\n",
       "    <tr>\n",
       "      <th>0</th>\n",
       "      <td>So there is no way for me to plug it in here i...</td>\n",
       "      <td>0</td>\n",
       "    </tr>\n",
       "    <tr>\n",
       "      <th>1</th>\n",
       "      <td>Good case, Excellent value.</td>\n",
       "      <td>1</td>\n",
       "    </tr>\n",
       "    <tr>\n",
       "      <th>2</th>\n",
       "      <td>Great for the jawbone.</td>\n",
       "      <td>1</td>\n",
       "    </tr>\n",
       "    <tr>\n",
       "      <th>3</th>\n",
       "      <td>Tied to charger for conversations lasting more...</td>\n",
       "      <td>0</td>\n",
       "    </tr>\n",
       "    <tr>\n",
       "      <th>4</th>\n",
       "      <td>The mic is great.</td>\n",
       "      <td>1</td>\n",
       "    </tr>\n",
       "  </tbody>\n",
       "</table>\n",
       "</div>"
      ],
      "text/plain": [
       "                                              review  sentiment\n",
       "0  So there is no way for me to plug it in here i...          0\n",
       "1                        Good case, Excellent value.          1\n",
       "2                             Great for the jawbone.          1\n",
       "3  Tied to charger for conversations lasting more...          0\n",
       "4                                  The mic is great.          1"
      ]
     },
     "execution_count": 6,
     "metadata": {},
     "output_type": "execute_result"
    }
   ],
   "source": [
    "dataset.head()"
   ]
  },
  {
   "cell_type": "markdown",
   "id": "ef405d7f",
   "metadata": {},
   "source": [
    "## 1: good review,   0: bad review"
   ]
  },
  {
   "cell_type": "code",
   "execution_count": 7,
   "id": "f55f6f72",
   "metadata": {},
   "outputs": [],
   "source": [
    "### Vocabulary size\n",
    "voc_size=5000"
   ]
  },
  {
   "cell_type": "markdown",
   "id": "0ad82401",
   "metadata": {},
   "source": [
    "### Onehot Representation\n"
   ]
  },
  {
   "cell_type": "code",
   "execution_count": 8,
   "id": "6bfd2631",
   "metadata": {},
   "outputs": [],
   "source": [
    "lemmatizer = WordNetLemmatizer()"
   ]
  },
  {
   "cell_type": "code",
   "execution_count": 9,
   "id": "80849cb6",
   "metadata": {},
   "outputs": [],
   "source": [
    "def decontracted(phrase):\n",
    "    # specific\n",
    "    phrase = re.sub(r\"won\\'t\", \"will not\", phrase)\n",
    "    phrase = re.sub(r\"can\\'t\", \"can not\", phrase)\n",
    "\n",
    "    # general\n",
    "    phrase = re.sub(r\"n\\'t\", \" not\", phrase)\n",
    "    phrase = re.sub(r\"\\'re\", \" are\", phrase)\n",
    "    phrase = re.sub(r\"\\'s\", \" is\", phrase)\n",
    "    phrase = re.sub(r\"\\'d\", \" would\", phrase)\n",
    "    phrase = re.sub(r\"\\'ll\", \" will\", phrase)\n",
    "    phrase = re.sub(r\"\\'t\", \" not\", phrase)\n",
    "    phrase = re.sub(r\"\\'ve\", \" have\", phrase)\n",
    "    phrase = re.sub(r\"\\'m\", \" am\", phrase)\n",
    "    return phrase"
   ]
  },
  {
   "cell_type": "code",
   "execution_count": 10,
   "id": "b96bf56e",
   "metadata": {},
   "outputs": [],
   "source": [
    "corpus = []\n",
    "for i in range(0,len(dataset)):\n",
    "    corpus.append(decontracted(dataset['review'][i]))"
   ]
  },
  {
   "cell_type": "code",
   "execution_count": 11,
   "id": "45b39ca8",
   "metadata": {},
   "outputs": [
    {
     "data": {
      "text/plain": [
       "[107,\n",
       " 765,\n",
       " 2026,\n",
       " 2177,\n",
       " 2842,\n",
       " 70,\n",
       " 3161,\n",
       " 2675,\n",
       " 4841,\n",
       " 2532,\n",
       " 2394,\n",
       " 1732,\n",
       " 2394,\n",
       " 1143,\n",
       " 3767,\n",
       " 4630,\n",
       " 3743,\n",
       " 1966,\n",
       " 2231,\n",
       " 2932,\n",
       " 901]"
      ]
     },
     "execution_count": 11,
     "metadata": {},
     "output_type": "execute_result"
    }
   ],
   "source": [
    "onehot_repr=[one_hot(words,voc_size)for words in corpus] \n",
    "onehot_repr[0]"
   ]
  },
  {
   "cell_type": "code",
   "execution_count": 12,
   "id": "8df2867c",
   "metadata": {},
   "outputs": [],
   "source": [
    "X = pd.DataFrame(corpus,columns=['review'])\n",
    "y = dataset[['sentiment']]"
   ]
  },
  {
   "cell_type": "markdown",
   "id": "703d08d6",
   "metadata": {},
   "source": [
    "### Embedding Representation"
   ]
  },
  {
   "cell_type": "code",
   "execution_count": 13,
   "id": "ccfe6c4a",
   "metadata": {},
   "outputs": [
    {
     "name": "stdout",
     "output_type": "stream",
     "text": [
      "[[   0    0  107 ... 2231 2932  901]\n",
      " [   0    0    0 ...  403 1577 1961]\n",
      " [   0    0    0 ...   70 1143 4200]\n",
      " ...\n",
      " [   0    0    0 ... 2097 1427 2696]\n",
      " [   0    0    0 ... 2056 2324 1795]\n",
      " [   0    0    0 ... 4461 4334 1785]]\n"
     ]
    }
   ],
   "source": [
    "sent_length=23\n",
    "embedded_docs=pad_sequences(onehot_repr,padding='pre',maxlen=sent_length)\n",
    "print(embedded_docs)"
   ]
  },
  {
   "cell_type": "code",
   "execution_count": 14,
   "id": "caa259c5",
   "metadata": {},
   "outputs": [
    {
     "data": {
      "text/plain": [
       "array([   0,    0,  107,  765, 2026, 2177, 2842,   70, 3161, 2675, 4841,\n",
       "       2532, 2394, 1732, 2394, 1143, 3767, 4630, 3743, 1966, 2231, 2932,\n",
       "        901])"
      ]
     },
     "execution_count": 14,
     "metadata": {},
     "output_type": "execute_result"
    }
   ],
   "source": [
    "embedded_docs[0]"
   ]
  },
  {
   "cell_type": "code",
   "execution_count": 15,
   "id": "05a0a8ef",
   "metadata": {},
   "outputs": [],
   "source": [
    "# ## Creating model\n",
    "# embedding_vector_features=50\n",
    "# model=Sequential()\n",
    "# model.add(Embedding(voc_size,embedding_vector_features,input_length=sent_length))\n",
    "# model.add(LSTM(100))\n",
    "# model.add(Dense(1,activation='sigmoid'))\n",
    "# model.compile(loss='binary_crossentropy',optimizer='adam',metrics=['accuracy'])\n",
    "# print(model.summary())"
   ]
  },
  {
   "cell_type": "code",
   "execution_count": 16,
   "id": "d5b5d751",
   "metadata": {},
   "outputs": [],
   "source": [
    "from tensorflow.keras.layers import Dropout\n",
    "## Creating model\n",
    "embedding_vector_features=250\n",
    "model=Sequential()\n",
    "model.add(Embedding(voc_size,embedding_vector_features,input_length=sent_length))\n",
    "model.add(Dropout(0.3))\n",
    "model.add(LSTM(100))\n",
    "model.add(Dropout(0.3))\n",
    "model.add(Dense(1,activation='sigmoid'))\n",
    "model.compile(loss='binary_crossentropy',optimizer='adam',metrics=['accuracy'])"
   ]
  },
  {
   "cell_type": "code",
   "execution_count": 17,
   "id": "2e26d402",
   "metadata": {},
   "outputs": [
    {
     "data": {
      "text/plain": [
       "(1000, (1000, 1))"
      ]
     },
     "execution_count": 17,
     "metadata": {},
     "output_type": "execute_result"
    }
   ],
   "source": [
    "len(embedded_docs),y.shape"
   ]
  },
  {
   "cell_type": "code",
   "execution_count": 18,
   "id": "23679701",
   "metadata": {},
   "outputs": [],
   "source": [
    "import numpy as np\n",
    "X_final=np.array(embedded_docs)\n",
    "y_final=np.array(y)"
   ]
  },
  {
   "cell_type": "code",
   "execution_count": 19,
   "id": "12f0de94",
   "metadata": {},
   "outputs": [
    {
     "data": {
      "text/plain": [
       "((1000, 23), (1000, 1))"
      ]
     },
     "execution_count": 19,
     "metadata": {},
     "output_type": "execute_result"
    }
   ],
   "source": [
    "X_final.shape,y_final.shape"
   ]
  },
  {
   "cell_type": "code",
   "execution_count": 20,
   "id": "a569c2ff",
   "metadata": {},
   "outputs": [],
   "source": [
    "from sklearn.model_selection import train_test_split\n",
    "X_train, X_test, y_train, y_test = train_test_split(X_final, y_final, test_size=0.3, random_state=41)"
   ]
  },
  {
   "cell_type": "markdown",
   "id": "caad64f2",
   "metadata": {},
   "source": [
    "### Model Training"
   ]
  },
  {
   "cell_type": "code",
   "execution_count": 21,
   "id": "59de76bf",
   "metadata": {},
   "outputs": [
    {
     "name": "stdout",
     "output_type": "stream",
     "text": [
      "Epoch 1/10\n",
      "11/11 [==============================] - 3s 102ms/step - loss: 0.6895 - accuracy: 0.5717 - val_loss: 0.6832 - val_accuracy: 0.5800\n",
      "Epoch 2/10\n",
      "11/11 [==============================] - 0s 44ms/step - loss: 0.6631 - accuracy: 0.6686 - val_loss: 0.6568 - val_accuracy: 0.6300\n",
      "Epoch 3/10\n",
      "11/11 [==============================] - 0s 43ms/step - loss: 0.5795 - accuracy: 0.7700 - val_loss: 0.5667 - val_accuracy: 0.6967\n",
      "Epoch 4/10\n",
      "11/11 [==============================] - 0s 40ms/step - loss: 0.4003 - accuracy: 0.8459 - val_loss: 0.5115 - val_accuracy: 0.7267\n",
      "Epoch 5/10\n",
      "11/11 [==============================] - 0s 45ms/step - loss: 0.2458 - accuracy: 0.9089 - val_loss: 0.5337 - val_accuracy: 0.7567\n",
      "Epoch 6/10\n",
      "11/11 [==============================] - 0s 42ms/step - loss: 0.1113 - accuracy: 0.9661 - val_loss: 0.6572 - val_accuracy: 0.7967\n",
      "Epoch 7/10\n",
      "11/11 [==============================] - 0s 44ms/step - loss: 0.1065 - accuracy: 0.9818 - val_loss: 0.6203 - val_accuracy: 0.8167\n",
      "Epoch 8/10\n",
      "11/11 [==============================] - 1s 47ms/step - loss: 0.0747 - accuracy: 0.9825 - val_loss: 0.8578 - val_accuracy: 0.7867\n",
      "Epoch 9/10\n",
      "11/11 [==============================] - 0s 44ms/step - loss: 0.0488 - accuracy: 0.9888 - val_loss: 0.8611 - val_accuracy: 0.7867\n",
      "Epoch 10/10\n",
      "11/11 [==============================] - 0s 42ms/step - loss: 0.0320 - accuracy: 0.9880 - val_loss: 0.7279 - val_accuracy: 0.7900\n"
     ]
    },
    {
     "data": {
      "text/plain": [
       "<tensorflow.python.keras.callbacks.History at 0x1c6ec087a08>"
      ]
     },
     "execution_count": 21,
     "metadata": {},
     "output_type": "execute_result"
    }
   ],
   "source": [
    "### Finally Training\n",
    "model.fit(X_train,y_train,validation_data=(X_test,y_test),epochs=10,batch_size=64)"
   ]
  },
  {
   "cell_type": "markdown",
   "id": "1f3b3456",
   "metadata": {},
   "source": [
    "### Performance Metrics And Accuracy"
   ]
  },
  {
   "cell_type": "code",
   "execution_count": 22,
   "id": "38ce9013",
   "metadata": {},
   "outputs": [],
   "source": [
    "y_pred_rnn=model.predict_classes(X_test)"
   ]
  },
  {
   "cell_type": "code",
   "execution_count": 23,
   "id": "c3a2b14d",
   "metadata": {},
   "outputs": [],
   "source": [
    "from sklearn.metrics import confusion_matrix"
   ]
  },
  {
   "cell_type": "code",
   "execution_count": 24,
   "id": "4e2bd38c",
   "metadata": {},
   "outputs": [
    {
     "data": {
      "text/plain": [
       "0.79"
      ]
     },
     "execution_count": 24,
     "metadata": {},
     "output_type": "execute_result"
    }
   ],
   "source": [
    "from sklearn.metrics import accuracy_score\n",
    "accuracy_score(y_test,y_pred_rnn)"
   ]
  },
  {
   "cell_type": "code",
   "execution_count": 25,
   "id": "9900f403",
   "metadata": {},
   "outputs": [
    {
     "data": {
      "text/plain": [
       "array([[109,  40],\n",
       "       [ 23, 128]], dtype=int64)"
      ]
     },
     "execution_count": 25,
     "metadata": {},
     "output_type": "execute_result"
    }
   ],
   "source": [
    "confusion_matrix(y_test,y_pred_rnn)"
   ]
  },
  {
   "cell_type": "code",
   "execution_count": 26,
   "id": "b5e36673",
   "metadata": {},
   "outputs": [
    {
     "data": {
      "image/png": "[encoded data removed]",
      "text/plain": [
       "<Figure size 432x288 with 2 Axes>"
      ]
     },
     "metadata": {
      "needs_background": "light"
     },
     "output_type": "display_data"
    }
   ],
   "source": [
    "cm_rnn = confusion_matrix(y_test, y_pred_rnn)\n",
    "plt.title('Heatmap of Confusion RNN', fontsize = 15)\n",
    "sns.heatmap(cm_rnn, annot = True)\n",
    "plt.show()"
   ]
  },
  {
   "cell_type": "code",
   "execution_count": 27,
   "id": "1195fd3e",
   "metadata": {},
   "outputs": [],
   "source": [
    "def print_confusion_matrix(y_true, y_pred):\n",
    "    cm = confusion_matrix(y_true, y_pred)\n",
    "    print('True negative = ', cm[0][0])\n",
    "    print('False positive = ', cm[1][0])\n",
    "    print('False negative = ', cm[0][1])\n",
    "    print('True positive = ', cm[1][1])"
   ]
  },
  {
   "cell_type": "code",
   "execution_count": 28,
   "id": "c41b3b58",
   "metadata": {},
   "outputs": [
    {
     "name": "stdout",
     "output_type": "stream",
     "text": [
      "True negative =  109\n",
      "False positive =  23\n",
      "False negative =  40\n",
      "True positive =  128\n"
     ]
    }
   ],
   "source": [
    "print_confusion_matrix(y_test, y_pred_rnn)"
   ]
  },
  {
   "cell_type": "code",
   "execution_count": 29,
   "id": "f8d2aea7",
   "metadata": {},
   "outputs": [
    {
     "data": {
      "text/plain": [
       "0.8025078369905957"
      ]
     },
     "execution_count": 29,
     "metadata": {},
     "output_type": "execute_result"
    }
   ],
   "source": [
    "fb_rf = fbeta_score(y_test, y_pred_rnn, beta=1)\n",
    "fb_rf"
   ]
  },
  {
   "cell_type": "code",
   "execution_count": null,
   "id": "dfe822e5",
   "metadata": {},
   "outputs": [],
   "source": []
  }
 ],
 "metadata": {
  "kernelspec": {
   "display_name": "Python 3",
   "language": "python",
   "name": "python3"
  },
  "language_info": {
   "codemirror_mode": {
    "name": "ipython",
    "version": 3
   },
   "file_extension": ".py",
   "mimetype": "text/x-python",
   "name": "python",
   "nbconvert_exporter": "python",
   "pygments_lexer": "ipython3",
   "version": "3.7.6"
  }
 },
 "nbformat": 4,
 "nbformat_minor": 5
}

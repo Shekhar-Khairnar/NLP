{
 "cells": [
  {
   "cell_type": "code",
   "execution_count": 1,
   "id": "6b1325d9",
   "metadata": {},
   "outputs": [],
   "source": [
    "import pandas as pd\n",
    "from random import seed, randrange\n",
    "import math\n",
    "import matplotlib.pyplot as plt\n",
    "import seaborn as sns\n",
    "import warnings\n",
    "warnings.filterwarnings(\"ignore\")\n",
    "import re\n",
    "import nltk\n",
    "from nltk.corpus import stopwords\n",
    "from nltk.stem import WordNetLemmatizer\n",
    "from nltk.tokenize import word_tokenize\n",
    "from sklearn.feature_extraction.text import TfidfVectorizer\n",
    "import gensim\n",
    "from gensim.parsing.preprocessing import remove_stopwords, STOPWORDS\n",
    "from sklearn.metrics import fbeta_score\n",
    "from sklearn.model_selection import cross_val_score\n",
    "from sklearn.metrics import classification_report,confusion_matrix,accuracy_score\n",
    "from sklearn.model_selection import GridSearchCV"
   ]
  },
  {
   "cell_type": "code",
   "execution_count": 2,
   "id": "9dd2ecdf",
   "metadata": {},
   "outputs": [],
   "source": [
    "# we need to remove some stopwords form the nltk library stopwords so that we can classify the negative and postive reviews properly\n",
    "# so we will be making our own customized stopwords"
   ]
  },
  {
   "cell_type": "code",
   "execution_count": 3,
   "id": "e506a3d5",
   "metadata": {},
   "outputs": [],
   "source": [
    "stopwords = ['from', \"she's\", 'theirs', 'be', 'won', 'shouldn', 'should', 'or', 'were', 'she', \"shouldn't\", 'until', 'himself', 'd', 'at', 'than', 'aren', \"doesn't\", 've', 'o', 'mustn', \"you've\", 'ours', 'wasn', 'but', 'once', 'there', \"didn't\", 'we', 'has', 'am', 'of', 'own', \"you'd\", 'in', 'he', \"shan't\", \"mightn't\", \"don't\", 'having', 'with', 'my', 'its', 'had', 'y', 'yourselves', 'didn', 'your', 'each', \"haven't\", 'yourself', 'and', 'is', 'nor', 'who', 'whom', 'couldn', 'this', 'mightn', 'shan', 'have', 'for', 'her', 'hers', 'other', 'during', 'herself', 'themselves', 'here', 'them', 's', 'hadn', \"it's\", 'so', \"mustn't\", 'did', 'about', 'after', \"hadn't\", 'haven', \"you'll\", 'can', 'just', 'isn', 'the', 'our', 'by', 'further', 'do', 'on', 're', 'doing', \"aren't\", 'off', 'some', 'an', 'only', 'over', 'me', 'while', 'will', 'too', 'i', 'under', 'more', \"you're\", 'their', 'you', 'as', 'ourselves', 'both', 'where', 'then', \"hasn't\", \"weren't\", \"won't\", 'before', 'are', \"wouldn't\", 'needn', 'because', 'doesn', 'into', 'that', 'between', \"wasn't\", 'it', 'him', 'up', 'above', 'his', 'these', 'm', 'been', \"couldn't\", 'to', 'those', 'same', 'don', 'out', 'ma', 'below', 'being', 'such', 'what', 'wouldn', \"that'll\", 'itself', 'hasn', \"isn't\", 'again', 'through', 'very', 'll', 'which', 'when', \"should've\", 'any', 't', 'how', 'all', \"needn't\", 'yours', 'weren', 'myself', 'a', 'they', 'if', 'ain', 'does', 'was', 'now', 'most', 'why']"
   ]
  },
  {
   "cell_type": "code",
   "execution_count": 4,
   "id": "370f4cd2",
   "metadata": {},
   "outputs": [],
   "source": [
    "dataset = pd.read_csv(r\"C:/Users/shekh/Desktop/NLP Sentiment Analysis/amazon.txt\",\n",
    "                 delimiter=\"\\t\",header=None,names=[\"review\",\"sentiment\"])"
   ]
  },
  {
   "cell_type": "code",
   "execution_count": 5,
   "id": "225a7dae",
   "metadata": {},
   "outputs": [
    {
     "data": {
      "text/plain": [
       "(1000, 2)"
      ]
     },
     "execution_count": 5,
     "metadata": {},
     "output_type": "execute_result"
    }
   ],
   "source": [
    "dataset.shape"
   ]
  },
  {
   "cell_type": "code",
   "execution_count": 6,
   "id": "cae6ed58",
   "metadata": {},
   "outputs": [
    {
     "data": {
      "text/html": [
       "<div>\n",
       "<style scoped>\n",
       "    .dataframe tbody tr th:only-of-type {\n",
       "        vertical-align: middle;\n",
       "    }\n",
       "\n",
       "    .dataframe tbody tr th {\n",
       "        vertical-align: top;\n",
       "    }\n",
       "\n",
       "    .dataframe thead th {\n",
       "        text-align: right;\n",
       "    }\n",
       "</style>\n",
       "<table border=\"1\" class=\"dataframe\">\n",
       "  <thead>\n",
       "    <tr style=\"text-align: right;\">\n",
       "      <th></th>\n",
       "      <th>review</th>\n",
       "      <th>sentiment</th>\n",
       "    </tr>\n",
       "  </thead>\n",
       "  <tbody>\n",
       "    <tr>\n",
       "      <th>0</th>\n",
       "      <td>So there is no way for me to plug it in here i...</td>\n",
       "      <td>0</td>\n",
       "    </tr>\n",
       "    <tr>\n",
       "      <th>1</th>\n",
       "      <td>Good case, Excellent value.</td>\n",
       "      <td>1</td>\n",
       "    </tr>\n",
       "    <tr>\n",
       "      <th>2</th>\n",
       "      <td>Great for the jawbone.</td>\n",
       "      <td>1</td>\n",
       "    </tr>\n",
       "    <tr>\n",
       "      <th>3</th>\n",
       "      <td>Tied to charger for conversations lasting more...</td>\n",
       "      <td>0</td>\n",
       "    </tr>\n",
       "    <tr>\n",
       "      <th>4</th>\n",
       "      <td>The mic is great.</td>\n",
       "      <td>1</td>\n",
       "    </tr>\n",
       "  </tbody>\n",
       "</table>\n",
       "</div>"
      ],
      "text/plain": [
       "                                              review  sentiment\n",
       "0  So there is no way for me to plug it in here i...          0\n",
       "1                        Good case, Excellent value.          1\n",
       "2                             Great for the jawbone.          1\n",
       "3  Tied to charger for conversations lasting more...          0\n",
       "4                                  The mic is great.          1"
      ]
     },
     "execution_count": 6,
     "metadata": {},
     "output_type": "execute_result"
    }
   ],
   "source": [
    "dataset.head()"
   ]
  },
  {
   "cell_type": "markdown",
   "id": "6001a673",
   "metadata": {},
   "source": [
    "## 1: good review,   0: bad review"
   ]
  },
  {
   "cell_type": "code",
   "execution_count": 7,
   "id": "5ec085c8",
   "metadata": {},
   "outputs": [],
   "source": [
    "lemmatizer = WordNetLemmatizer()"
   ]
  },
  {
   "cell_type": "code",
   "execution_count": 8,
   "id": "879f9759",
   "metadata": {},
   "outputs": [],
   "source": [
    "def decontracted(phrase):\n",
    "    # specific\n",
    "    phrase = re.sub(r\"won\\'t\", \"will not\", phrase)\n",
    "    phrase = re.sub(r\"can\\'t\", \"can not\", phrase)\n",
    "\n",
    "    # general\n",
    "    phrase = re.sub(r\"n\\'t\", \" not\", phrase)\n",
    "    phrase = re.sub(r\"\\'re\", \" are\", phrase)\n",
    "    phrase = re.sub(r\"\\'s\", \" is\", phrase)\n",
    "    phrase = re.sub(r\"\\'d\", \" would\", phrase)\n",
    "    phrase = re.sub(r\"\\'ll\", \" will\", phrase)\n",
    "    phrase = re.sub(r\"\\'t\", \" not\", phrase)\n",
    "    phrase = re.sub(r\"\\'ve\", \" have\", phrase)\n",
    "    phrase = re.sub(r\"\\'m\", \" am\", phrase)\n",
    "    return phrase"
   ]
  },
  {
   "cell_type": "code",
   "execution_count": 9,
   "id": "0a9d9811",
   "metadata": {},
   "outputs": [],
   "source": [
    "cr = []\n",
    "for i in range(0,len(dataset)):\n",
    "    cr.append(decontracted(dataset['review'][i]))"
   ]
  },
  {
   "cell_type": "code",
   "execution_count": 10,
   "id": "8cc5876d",
   "metadata": {},
   "outputs": [],
   "source": [
    "dataset['review1'] = pd.DataFrame(cr)"
   ]
  },
  {
   "cell_type": "code",
   "execution_count": 11,
   "id": "3a857fca",
   "metadata": {},
   "outputs": [],
   "source": [
    "corpus = []\n",
    "for i in range(0, len(dataset)):\n",
    "    review = re.sub('[^a-zA-Z]', ' ', dataset['review1'][i])\n",
    "    review = review.lower()\n",
    "    review = review.split()\n",
    "    \n",
    "    review = [lemmatizer.lemmatize(word) for word in review if not word in stopwords]\n",
    "    review = ' '.join(review)\n",
    "    corpus.append(review)"
   ]
  },
  {
   "cell_type": "code",
   "execution_count": 12,
   "id": "ae2ff3e8",
   "metadata": {},
   "outputs": [
    {
     "data": {
      "text/plain": [
       "list"
      ]
     },
     "execution_count": 12,
     "metadata": {},
     "output_type": "execute_result"
    }
   ],
   "source": [
    "type(corpus)"
   ]
  },
  {
   "cell_type": "code",
   "execution_count": 13,
   "id": "22b154e3",
   "metadata": {},
   "outputs": [],
   "source": [
    "X = pd.DataFrame(corpus,columns=['review'])\n",
    "y = dataset[['sentiment']]"
   ]
  },
  {
   "cell_type": "code",
   "execution_count": 14,
   "id": "3ba4ca5d",
   "metadata": {},
   "outputs": [
    {
     "data": {
      "text/plain": [
       "(1000, 1)"
      ]
     },
     "execution_count": 14,
     "metadata": {},
     "output_type": "execute_result"
    }
   ],
   "source": [
    "X.shape"
   ]
  },
  {
   "cell_type": "code",
   "execution_count": 15,
   "id": "054af8d4",
   "metadata": {},
   "outputs": [],
   "source": [
    "tfidf = TfidfVectorizer(ngram_range=(1,3))"
   ]
  },
  {
   "cell_type": "code",
   "execution_count": 16,
   "id": "32a7b37a",
   "metadata": {},
   "outputs": [],
   "source": [
    "X = tfidf.fit_transform(X['review']).toarray()"
   ]
  },
  {
   "cell_type": "code",
   "execution_count": 17,
   "id": "daa768a3",
   "metadata": {},
   "outputs": [],
   "source": [
    "y = y.to_numpy()"
   ]
  },
  {
   "cell_type": "markdown",
   "id": "6b5789b8",
   "metadata": {},
   "source": [
    "### Train test Split"
   ]
  },
  {
   "cell_type": "code",
   "execution_count": 18,
   "id": "f71ec6c7",
   "metadata": {},
   "outputs": [],
   "source": [
    "from sklearn.model_selection import train_test_split"
   ]
  },
  {
   "cell_type": "code",
   "execution_count": 19,
   "id": "c7e5dcb4",
   "metadata": {},
   "outputs": [],
   "source": [
    "X_train,X_test,y_train,y_test=train_test_split(X,y,test_size=0.3,random_state=40,stratify=y)"
   ]
  },
  {
   "cell_type": "markdown",
   "id": "5990679e",
   "metadata": {},
   "source": [
    "### Now lets build and run ML models"
   ]
  },
  {
   "cell_type": "markdown",
   "id": "02116506",
   "metadata": {},
   "source": [
    "### Random Forest"
   ]
  },
  {
   "cell_type": "code",
   "execution_count": 20,
   "id": "a8edaefa",
   "metadata": {},
   "outputs": [
    {
     "name": "stdout",
     "output_type": "stream",
     "text": [
      "{'bootstrap': False, 'criterion': 'gini', 'max_depth': 4, 'min_samples_leaf': 4, 'min_samples_split': 8, 'n_estimators': 200}\n",
      "0.72\n"
     ]
    }
   ],
   "source": [
    "# Random Forest Classifier\n",
    "from sklearn.model_selection import StratifiedKFold\n",
    "from sklearn.ensemble import RandomForestClassifier\n",
    "model_rf = RandomForestClassifier(random_state= 42)  \n",
    "\n",
    "scoring = {\"Recall\": 'recall', \"Accuracy\": 'accuracy'}\n",
    "\n",
    "cv = StratifiedKFold(n_splits= 10, shuffle=True, random_state=1)\n",
    "parameter = {\n",
    "             'n_estimators': [100,200],\n",
    "             'max_depth' : [4,5,6],\n",
    "             'criterion' :['gini', 'entropy'],\n",
    "             'min_samples_leaf': [3, 4, 5],\n",
    "             'min_samples_split': [8, 10, 12],\n",
    "             'bootstrap': [True, False] # boot straping method is used to build the tree rather than using whole dataset\n",
    "\n",
    "            }\n",
    "\n",
    "result_rf = GridSearchCV(estimator = model_rf, \n",
    "                         param_grid = parameter, \n",
    "                         cv = cv, \n",
    "                         scoring= scoring,\n",
    "                         refit=\"Recall\", #refits with the parameter setting that has the best cross-validated score.\n",
    "                         n_jobs = -1, #means using all processors\n",
    "                         return_train_score =False # to get insights on how different parameter settings impact the overfitting/underfitting trade-off.\n",
    "                        )\n",
    "\n",
    "result_rf.fit(X_train, y_train)\n",
    "print(result_rf.best_params_)\n",
    "print(result_rf.best_score_)\n"
   ]
  },
  {
   "cell_type": "code",
   "execution_count": 21,
   "id": "7668d59f",
   "metadata": {},
   "outputs": [],
   "source": [
    "y_pred_rf = result_rf.predict(X_test)"
   ]
  },
  {
   "cell_type": "code",
   "execution_count": 22,
   "id": "6dd085a7",
   "metadata": {},
   "outputs": [
    {
     "name": "stdout",
     "output_type": "stream",
     "text": [
      "0.7933333333333333\n",
      "              precision    recall  f1-score   support\n",
      "\n",
      "           0       0.72      0.95      0.82       150\n",
      "           1       0.92      0.64      0.76       150\n",
      "\n",
      "    accuracy                           0.79       300\n",
      "   macro avg       0.82      0.79      0.79       300\n",
      "weighted avg       0.82      0.79      0.79       300\n",
      "\n"
     ]
    }
   ],
   "source": [
    "score=accuracy_score(y_test,y_pred_rf)\n",
    "print(score)\n",
    "report=classification_report(y_test,y_pred_rf)\n",
    "print(report)"
   ]
  },
  {
   "cell_type": "code",
   "execution_count": 23,
   "id": "8b65169e",
   "metadata": {},
   "outputs": [
    {
     "name": "stdout",
     "output_type": "stream",
     "text": [
      "0.7933333333333333\n",
      "              precision    recall  f1-score   support\n",
      "\n",
      "           0       0.72      0.95      0.82       150\n",
      "           1       0.92      0.64      0.76       150\n",
      "\n",
      "    accuracy                           0.79       300\n",
      "   macro avg       0.82      0.79      0.79       300\n",
      "weighted avg       0.82      0.79      0.79       300\n",
      "\n"
     ]
    }
   ],
   "source": [
    "score=accuracy_score(y_test,y_pred_rf)\n",
    "print(score)\n",
    "report=classification_report(y_test,y_pred_rf)\n",
    "print(report)"
   ]
  },
  {
   "cell_type": "code",
   "execution_count": 24,
   "id": "0aa064ed",
   "metadata": {},
   "outputs": [
    {
     "data": {
      "image/png": "[encoded data removed]",
      "text/plain": [
       "<Figure size 432x288 with 2 Axes>"
      ]
     },
     "metadata": {
      "needs_background": "light"
     },
     "output_type": "display_data"
    }
   ],
   "source": [
    "cm_rf = confusion_matrix(y_test, y_pred_rf)\n",
    "plt.title('Heatmap of Confusion RF', fontsize = 15)\n",
    "sns.heatmap(cm_rf, annot = True)\n",
    "plt.show()"
   ]
  },
  {
   "cell_type": "code",
   "execution_count": 25,
   "id": "9a1a753e",
   "metadata": {},
   "outputs": [],
   "source": [
    "def print_confusion_matrix(y_true, y_pred):\n",
    "    cm = confusion_matrix(y_true, y_pred)\n",
    "    print('True negative = ', cm[0][0])\n",
    "    print('False negative = ', cm[1][0])\n",
    "    print('False positive = ', cm[0][1])\n",
    "    print('True positive = ', cm[1][1])"
   ]
  },
  {
   "cell_type": "code",
   "execution_count": 26,
   "id": "67d3ea04",
   "metadata": {},
   "outputs": [
    {
     "name": "stdout",
     "output_type": "stream",
     "text": [
      "True negative =  142\n",
      "False negative =  54\n",
      "False positive =  8\n",
      "True positive =  96\n"
     ]
    }
   ],
   "source": [
    "print_confusion_matrix(y_test, y_pred_rf)"
   ]
  },
  {
   "cell_type": "code",
   "execution_count": 27,
   "id": "8553860f",
   "metadata": {},
   "outputs": [
    {
     "data": {
      "text/plain": [
       "0.7559055118110237"
      ]
     },
     "execution_count": 27,
     "metadata": {},
     "output_type": "execute_result"
    }
   ],
   "source": [
    "fb_rf = fbeta_score(y_test, y_pred_rf, beta=1)\n",
    "fb_rf"
   ]
  },
  {
   "cell_type": "markdown",
   "id": "32bac684",
   "metadata": {},
   "source": [
    "### SVM"
   ]
  },
  {
   "cell_type": "markdown",
   "id": "08f41e5c",
   "metadata": {},
   "source": [
    "Support Vector Machines with a linear kernel."
   ]
  },
  {
   "cell_type": "code",
   "execution_count": 28,
   "id": "18b1c801",
   "metadata": {},
   "outputs": [],
   "source": [
    "from sklearn.svm import SVC"
   ]
  },
  {
   "cell_type": "code",
   "execution_count": 29,
   "id": "13b9bf11",
   "metadata": {},
   "outputs": [
    {
     "name": "stdout",
     "output_type": "stream",
     "text": [
      "Accuracy for C=0.01: 0.6633333333333333\n",
      "Accuracy for C=0.05: 0.6633333333333333\n",
      "Accuracy for C=0.25: 0.7533333333333333\n",
      "Accuracy for C=0.5: 0.81\n",
      "Accuracy for C=1: 0.8366666666666667\n"
     ]
    }
   ],
   "source": [
    "\n",
    "for c in [0.01, 0.05, 0.25, 0.5, 1]:\n",
    "    \n",
    "    svm = SVC(kernel='linear',probability=True,C=c)\n",
    "    \n",
    "    svm.fit(X_train, y_train)\n",
    "    print (\"Accuracy for C=%s: %s\" \n",
    "           % (c, accuracy_score(y_test, svm.predict(X_test))))"
   ]
  },
  {
   "cell_type": "code",
   "execution_count": 30,
   "id": "5836f1f8",
   "metadata": {},
   "outputs": [],
   "source": [
    "svm = SVC(C=1)"
   ]
  },
  {
   "cell_type": "code",
   "execution_count": 31,
   "id": "54149627",
   "metadata": {},
   "outputs": [
    {
     "data": {
      "text/plain": [
       "SVC(C=1)"
      ]
     },
     "execution_count": 31,
     "metadata": {},
     "output_type": "execute_result"
    }
   ],
   "source": [
    "svm.fit(X_train, y_train)"
   ]
  },
  {
   "cell_type": "code",
   "execution_count": 32,
   "id": "91d06ea2",
   "metadata": {},
   "outputs": [],
   "source": [
    "y_pred_sv = svm.predict(X_test)"
   ]
  },
  {
   "cell_type": "code",
   "execution_count": 33,
   "id": "6c3a166a",
   "metadata": {},
   "outputs": [
    {
     "data": {
      "image/png": "[encoded data removed]",
      "text/plain": [
       "<Figure size 432x288 with 2 Axes>"
      ]
     },
     "metadata": {
      "needs_background": "light"
     },
     "output_type": "display_data"
    }
   ],
   "source": [
    "cm_sv = confusion_matrix(y_test, y_pred_sv)\n",
    "plt.title('Heatmap of Confusion Matrix for SVM', fontsize = 15)\n",
    "sns.heatmap(cm_sv, annot = True)\n",
    "plt.show()"
   ]
  },
  {
   "cell_type": "code",
   "execution_count": 34,
   "id": "ef0293bb",
   "metadata": {},
   "outputs": [
    {
     "name": "stdout",
     "output_type": "stream",
     "text": [
      "True negative =  146\n",
      "False negative =  51\n",
      "False positive =  4\n",
      "True positive =  99\n"
     ]
    }
   ],
   "source": [
    "print_confusion_matrix(y_test, y_pred_sv)"
   ]
  },
  {
   "cell_type": "code",
   "execution_count": 35,
   "id": "e4318b69",
   "metadata": {},
   "outputs": [
    {
     "data": {
      "text/plain": [
       "0.782608695652174"
      ]
     },
     "execution_count": 35,
     "metadata": {},
     "output_type": "execute_result"
    }
   ],
   "source": [
    "fb_sv = fbeta_score(y_test, y_pred_sv, beta=1)\n",
    "fb_sv"
   ]
  },
  {
   "cell_type": "markdown",
   "id": "cf849812",
   "metadata": {},
   "source": [
    "### NaiveBayes Classifier"
   ]
  },
  {
   "cell_type": "code",
   "execution_count": 36,
   "id": "9c7669fa",
   "metadata": {},
   "outputs": [],
   "source": [
    "# train a Gaussian Naive Bayes classifier on the training set\n",
    "from sklearn.naive_bayes import GaussianNB\n"
   ]
  },
  {
   "cell_type": "code",
   "execution_count": 37,
   "id": "5b715829",
   "metadata": {},
   "outputs": [
    {
     "data": {
      "text/plain": [
       "GaussianNB()"
      ]
     },
     "execution_count": 37,
     "metadata": {},
     "output_type": "execute_result"
    }
   ],
   "source": [
    "gnb = GaussianNB()\n",
    "gnb.fit(X_train, y_train)"
   ]
  },
  {
   "cell_type": "code",
   "execution_count": 38,
   "id": "ac78c8a9",
   "metadata": {},
   "outputs": [],
   "source": [
    "y_pred_nb = gnb.predict(X_test)"
   ]
  },
  {
   "cell_type": "code",
   "execution_count": 39,
   "id": "37ff26cd",
   "metadata": {},
   "outputs": [
    {
     "data": {
      "text/plain": [
       "0.7466666666666667"
      ]
     },
     "execution_count": 39,
     "metadata": {},
     "output_type": "execute_result"
    }
   ],
   "source": [
    "accuracy_score(y_test,y_pred_nb)"
   ]
  },
  {
   "cell_type": "code",
   "execution_count": 40,
   "id": "6ddad38f",
   "metadata": {},
   "outputs": [
    {
     "data": {
      "image/png": "[encoded data removed]",
      "text/plain": [
       "<Figure size 432x288 with 2 Axes>"
      ]
     },
     "metadata": {
      "needs_background": "light"
     },
     "output_type": "display_data"
    }
   ],
   "source": [
    "cm_nb = confusion_matrix(y_test, y_pred_nb)\n",
    "plt.title('Heatmap of Confusion Matrix for Naive Bayes', fontsize = 15)\n",
    "sns.heatmap(cm_nb, annot = True)\n",
    "plt.show()"
   ]
  },
  {
   "cell_type": "code",
   "execution_count": 41,
   "id": "0e82ca30",
   "metadata": {},
   "outputs": [
    {
     "name": "stdout",
     "output_type": "stream",
     "text": [
      "True negative =  106\n",
      "False negative =  32\n",
      "False positive =  44\n",
      "True positive =  118\n"
     ]
    }
   ],
   "source": [
    "print_confusion_matrix(y_test, y_pred_nb)"
   ]
  },
  {
   "cell_type": "code",
   "execution_count": 42,
   "id": "d2153ddc",
   "metadata": {},
   "outputs": [
    {
     "data": {
      "text/plain": [
       "0.7564102564102564"
      ]
     },
     "execution_count": 42,
     "metadata": {},
     "output_type": "execute_result"
    }
   ],
   "source": [
    "fb_nb = fbeta_score(y_test, y_pred_nb, beta=1)\n",
    "fb_nb"
   ]
  },
  {
   "cell_type": "markdown",
   "id": "41f250d1",
   "metadata": {},
   "source": [
    "## Logistic Regression"
   ]
  },
  {
   "cell_type": "code",
   "execution_count": 43,
   "id": "b03d976a",
   "metadata": {},
   "outputs": [],
   "source": [
    "from sklearn.linear_model import LogisticRegression"
   ]
  },
  {
   "cell_type": "code",
   "execution_count": 44,
   "id": "04137cbb",
   "metadata": {},
   "outputs": [
    {
     "name": "stdout",
     "output_type": "stream",
     "text": [
      "Accuracy for C=0.01: 0.82\n",
      "Accuracy for C=0.05: 0.8233333333333334\n",
      "Accuracy for C=0.25: 0.8266666666666667\n",
      "Accuracy for C=0.5: 0.8333333333333334\n",
      "Accuracy for C=1: 0.8366666666666667\n"
     ]
    }
   ],
   "source": [
    "for c in [0.01, 0.05, 0.25, 0.5, 1]:\n",
    "    \n",
    "    lr = LogisticRegression(C=c)\n",
    "    lr.fit(X_train, y_train)\n",
    "    print (\"Accuracy for C=%s: %s\" \n",
    "           % (c, accuracy_score(y_test, lr.predict(X_test))))\n",
    "    \n",
    "\n",
    "    \n",
    "# final_wc = LogisticRegression(C=0.05)\n",
    "# final_wc.fit(X, target)\n",
    "# print (\"Final Accuracy: %s\" \n",
    "#        % accuracy_score(target, final_wc.predict(X_test)))\n",
    "\n"
   ]
  },
  {
   "cell_type": "code",
   "execution_count": 45,
   "id": "a21f6ef8",
   "metadata": {},
   "outputs": [],
   "source": [
    "lr = LogisticRegression(C=1)"
   ]
  },
  {
   "cell_type": "code",
   "execution_count": 46,
   "id": "74c43cfc",
   "metadata": {},
   "outputs": [
    {
     "data": {
      "text/plain": [
       "LogisticRegression(C=1)"
      ]
     },
     "execution_count": 46,
     "metadata": {},
     "output_type": "execute_result"
    }
   ],
   "source": [
    "lr.fit(X_train,y_train)"
   ]
  },
  {
   "cell_type": "code",
   "execution_count": 47,
   "id": "16a2c16a",
   "metadata": {},
   "outputs": [],
   "source": [
    "y_pred_lr = lr.predict(X_test)"
   ]
  },
  {
   "cell_type": "code",
   "execution_count": 48,
   "id": "3a1c8db5",
   "metadata": {},
   "outputs": [
    {
     "data": {
      "text/plain": [
       "0.8366666666666667"
      ]
     },
     "execution_count": 48,
     "metadata": {},
     "output_type": "execute_result"
    }
   ],
   "source": [
    "accuracy_score(y_test,y_pred_lr)"
   ]
  },
  {
   "cell_type": "code",
   "execution_count": 49,
   "id": "fa5a97a5",
   "metadata": {},
   "outputs": [
    {
     "data": {
      "image/png": "[encoded data removed]",
      "text/plain": [
       "<Figure size 432x288 with 2 Axes>"
      ]
     },
     "metadata": {
      "needs_background": "light"
     },
     "output_type": "display_data"
    }
   ],
   "source": [
    "cm_lr = confusion_matrix(y_test, y_pred_lr)\n",
    "plt.title('Heatmap of Confusion Matrix for Logistic Regression', fontsize = 15)\n",
    "sns.heatmap(cm_lr, annot = True)\n",
    "plt.show()"
   ]
  },
  {
   "cell_type": "code",
   "execution_count": 50,
   "id": "34db4b4b",
   "metadata": {},
   "outputs": [
    {
     "name": "stdout",
     "output_type": "stream",
     "text": [
      "True negative =  143\n",
      "False negative =  42\n",
      "False positive =  7\n",
      "True positive =  108\n"
     ]
    }
   ],
   "source": [
    "print_confusion_matrix(y_test, y_pred_lr)"
   ]
  },
  {
   "cell_type": "code",
   "execution_count": 51,
   "id": "3acc790d",
   "metadata": {},
   "outputs": [
    {
     "data": {
      "text/plain": [
       "0.8150943396226416"
      ]
     },
     "execution_count": 51,
     "metadata": {},
     "output_type": "execute_result"
    }
   ],
   "source": [
    "fb_lr = fbeta_score(y_test, y_pred_lr, beta=1)\n",
    "fb_lr"
   ]
  },
  {
   "cell_type": "markdown",
   "id": "970f1d94",
   "metadata": {},
   "source": [
    "## Final Result"
   ]
  },
  {
   "cell_type": "code",
   "execution_count": 52,
   "id": "8d09eb5b",
   "metadata": {},
   "outputs": [
    {
     "name": "stdout",
     "output_type": "stream",
     "text": [
      "The best F1 score is 0.8150943 for Logistic Regreesion model.\n"
     ]
    }
   ],
   "source": [
    "list = [fb_lr,fb_rf,fb_sv,fb_nb]\n",
    "\n",
    "\n",
    "if (fb_sv == max(list)):\n",
    "    print('The best F1 score is {:.7f} for SupportVector Machine model.'.format(fb_sv))\n",
    "elif (fb_lr == max(list)):\n",
    "    print('The best F1 score is {:.7f} for Logistic Regreesion model.'.format(fb_lr))\n",
    "elif (fb_nb == max(list)):\n",
    "    print('The best F1 score is {:.7f} for NaiveBayes Regreesion model.'.format(fb_nb))\n",
    "else: \n",
    "    print('The best F1 score is {:.7f} for Random Forest model.'.format(fb_rf))"
   ]
  },
  {
   "cell_type": "code",
   "execution_count": 53,
   "id": "728a3092",
   "metadata": {},
   "outputs": [
    {
     "data": {
      "image/png": "[encoded data removed]",
      "text/plain": [
       "<Figure size 640x480 with 1 Axes>"
      ]
     },
     "metadata": {
      "needs_background": "light"
     },
     "output_type": "display_data"
    }
   ],
   "source": [
    "#ROC Curve\n",
    "from matplotlib.pyplot import figure\n",
    "import sklearn.metrics as metrics\n",
    "\n",
    "figure(figsize=(8, 6), dpi=80)\n",
    "from sklearn.metrics import roc_curve\n",
    "y_pred_prob1 = result_rf.predict_proba(X_test)[:,1]\n",
    "\n",
    "fpr1 , tpr1, thresholds1 = roc_curve(y_test, y_pred_prob1)\n",
    "auc = round(metrics.roc_auc_score(y_test, y_pred_prob1),3)\n",
    "\n",
    "# y_pred_prob2 = svm.predict_proba(X_test)[:,1]\n",
    "# fpr2 , tpr2, thresholds2 = roc_curve(y_test, y_pred_prob2)\n",
    "\n",
    "\n",
    "y_pred_prob3 = gnb.predict_proba(X_test)[:,1]\n",
    "fpr3 , tpr3, thresholds3 = roc_curve(y_test, y_pred_prob3)\n",
    "auc3 = round(metrics.roc_auc_score(y_test, y_pred_prob3),3)\n",
    "y_pred_prob4 = lr.predict_proba(X_test)[:,1]\n",
    "fpr4 , tpr4, thresholds4 = roc_curve(y_test, y_pred_prob4)\n",
    "auc4 = round(metrics.roc_auc_score(y_test, y_pred_prob4),3)\n",
    "\n",
    "plt.plot([0,1],[0,1], 'k--')\n",
    "plt.plot(fpr1, tpr1, label= \"RF: \"+str(auc))\n",
    "# plt.plot(fpr2, tpr2, label= \"SVM\")\n",
    "plt.plot(fpr3, tpr3, label= \"GNB: \"+str(auc3))\n",
    "plt.plot(fpr4, tpr4, label= \"LR: \"+str(auc4))\n",
    "plt.legend(loc=4)\n",
    "plt.xlabel(\"FPR\")\n",
    "plt.ylabel(\"TPR\")\n",
    "plt.title('Receiver Operating Characteristic')\n",
    "plt.show()"
   ]
  },
  {
   "cell_type": "code",
   "execution_count": null,
   "id": "cdb8f82e",
   "metadata": {},
   "outputs": [],
   "source": []
  }
 ],
 "metadata": {
  "kernelspec": {
   "display_name": "Python 3",
   "language": "python",
   "name": "python3"
  },
  "language_info": {
   "codemirror_mode": {
    "name": "ipython",
    "version": 3
   },
   "file_extension": ".py",
   "mimetype": "text/x-python",
   "name": "python",
   "nbconvert_exporter": "python",
   "pygments_lexer": "ipython3",
   "version": "3.7.6"
  }
 },
 "nbformat": 4,
 "nbformat_minor": 5
}

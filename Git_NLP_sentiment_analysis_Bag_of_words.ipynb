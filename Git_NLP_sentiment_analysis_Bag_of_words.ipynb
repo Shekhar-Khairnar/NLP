{
 "cells": [
  {
   "cell_type": "markdown",
   "id": "20f2c1c6",
   "metadata": {},
   "source": [
    "### Sentiment Analysis of Amazon Review comments"
   ]
  },
  {
   "cell_type": "markdown",
   "id": "e8222323",
   "metadata": {},
   "source": [
    "Import Required Libraries"
   ]
  },
  {
   "cell_type": "code",
   "execution_count": 1,
   "id": "1cc5ca13",
   "metadata": {},
   "outputs": [],
   "source": [
    "import pandas as pd\n",
    "from random import seed, randrange\n",
    "import math\n",
    "import matplotlib.pyplot as plt\n",
    "import seaborn as sns\n",
    "import warnings\n",
    "warnings.filterwarnings(\"ignore\")\n",
    "import re\n",
    "import nltk\n",
    "from nltk.corpus import stopwords\n",
    "from nltk.stem.porter import PorterStemmer\n",
    "from nltk.stem import WordNetLemmatizer\n",
    "from nltk.tokenize import word_tokenize\n",
    "import gensim\n",
    "from gensim.parsing.preprocessing import remove_stopwords, STOPWORDS\n",
    "from sklearn.metrics import fbeta_score\n",
    "from sklearn.model_selection import cross_val_score\n",
    "from sklearn.model_selection import GridSearchCV"
   ]
  },
  {
   "cell_type": "code",
   "execution_count": 2,
   "id": "64cac527",
   "metadata": {},
   "outputs": [],
   "source": [
    "# we need to remove some stopwords form the nltk library stopwords so that we can classify the negative and postive reviews properly\n",
    "# so we will be making our own customized stopwords"
   ]
  },
  {
   "cell_type": "code",
   "execution_count": 3,
   "id": "b738bd71",
   "metadata": {},
   "outputs": [],
   "source": [
    "stopwords = ['from', \"she's\", 'theirs', 'be', 'won', 'shouldn', 'should', 'or', 'were', 'she', \"shouldn't\", 'until', 'himself', 'd', 'at', 'than', 'aren', \"doesn't\", 've', 'o', 'mustn', \"you've\", 'ours', 'wasn', 'but', 'once', 'there', \"didn't\", 'we', 'has', 'am', 'of', 'own', \"you'd\", 'in', 'he', \"shan't\", \"mightn't\", \"don't\", 'having', 'with', 'my', 'its', 'had', 'y', 'yourselves', 'didn', 'your', 'each', \"haven't\", 'yourself', 'and', 'is', 'nor', 'who', 'whom', 'couldn', 'this', 'mightn', 'shan', 'have', 'for', 'her', 'hers', 'other', 'during', 'herself', 'themselves', 'here', 'them', 's', 'hadn', \"it's\", 'so', \"mustn't\", 'did', 'about', 'after', \"hadn't\", 'haven', \"you'll\", 'can', 'just', 'isn', 'the', 'our', 'by', 'further', 'do', 'on', 're', 'doing', \"aren't\", 'off', 'some', 'an', 'only', 'over', 'me', 'while', 'will', 'too', 'i', 'under', 'more', \"you're\", 'their', 'you', 'as', 'ourselves', 'both', 'where', 'then', \"hasn't\", \"weren't\", \"won't\", 'before', 'are', \"wouldn't\", 'needn', 'because', 'doesn', 'into', 'that', 'between', \"wasn't\", 'it', 'him', 'up', 'above', 'his', 'these', 'm', 'been', \"couldn't\", 'to', 'those', 'same', 'don', 'out', 'ma', 'below', 'being', 'such', 'what', 'wouldn', \"that'll\", 'itself', 'hasn', \"isn't\", 'again', 'through', 'very', 'll', 'which', 'when', \"should've\", 'any', 't', 'how', 'all', \"needn't\", 'yours', 'weren', 'myself', 'a', 'they', 'if', 'ain', 'does', 'was', 'now', 'most', 'why']"
   ]
  },
  {
   "cell_type": "code",
   "execution_count": 4,
   "id": "0a7e8f71",
   "metadata": {},
   "outputs": [],
   "source": [
    "dataset = pd.read_csv(r\"C:/Users/shekh/Desktop/NLP Sentiment Analysis/amazon.txt\",\n",
    "                 delimiter=\"\\t\",header=None,names=[\"review\",\"sentiment\"])"
   ]
  },
  {
   "cell_type": "code",
   "execution_count": 5,
   "id": "b39bac8c",
   "metadata": {},
   "outputs": [
    {
     "data": {
      "text/plain": [
       "(1000, 2)"
      ]
     },
     "execution_count": 5,
     "metadata": {},
     "output_type": "execute_result"
    }
   ],
   "source": [
    "dataset.shape"
   ]
  },
  {
   "cell_type": "code",
   "execution_count": 6,
   "id": "b7831217",
   "metadata": {},
   "outputs": [
    {
     "data": {
      "text/html": [
       "<div>\n",
       "<style scoped>\n",
       "    .dataframe tbody tr th:only-of-type {\n",
       "        vertical-align: middle;\n",
       "    }\n",
       "\n",
       "    .dataframe tbody tr th {\n",
       "        vertical-align: top;\n",
       "    }\n",
       "\n",
       "    .dataframe thead th {\n",
       "        text-align: right;\n",
       "    }\n",
       "</style>\n",
       "<table border=\"1\" class=\"dataframe\">\n",
       "  <thead>\n",
       "    <tr style=\"text-align: right;\">\n",
       "      <th></th>\n",
       "      <th>review</th>\n",
       "      <th>sentiment</th>\n",
       "    </tr>\n",
       "  </thead>\n",
       "  <tbody>\n",
       "    <tr>\n",
       "      <th>0</th>\n",
       "      <td>So there is no way for me to plug it in here i...</td>\n",
       "      <td>0</td>\n",
       "    </tr>\n",
       "    <tr>\n",
       "      <th>1</th>\n",
       "      <td>Good case, Excellent value.</td>\n",
       "      <td>1</td>\n",
       "    </tr>\n",
       "    <tr>\n",
       "      <th>2</th>\n",
       "      <td>Great for the jawbone.</td>\n",
       "      <td>1</td>\n",
       "    </tr>\n",
       "    <tr>\n",
       "      <th>3</th>\n",
       "      <td>Tied to charger for conversations lasting more...</td>\n",
       "      <td>0</td>\n",
       "    </tr>\n",
       "    <tr>\n",
       "      <th>4</th>\n",
       "      <td>The mic is great.</td>\n",
       "      <td>1</td>\n",
       "    </tr>\n",
       "  </tbody>\n",
       "</table>\n",
       "</div>"
      ],
      "text/plain": [
       "                                              review  sentiment\n",
       "0  So there is no way for me to plug it in here i...          0\n",
       "1                        Good case, Excellent value.          1\n",
       "2                             Great for the jawbone.          1\n",
       "3  Tied to charger for conversations lasting more...          0\n",
       "4                                  The mic is great.          1"
      ]
     },
     "execution_count": 6,
     "metadata": {},
     "output_type": "execute_result"
    }
   ],
   "source": [
    "dataset.head()"
   ]
  },
  {
   "cell_type": "markdown",
   "id": "0520c9d2",
   "metadata": {},
   "source": [
    "## 1: good review,   0: bad review"
   ]
  },
  {
   "cell_type": "markdown",
   "id": "62528c03",
   "metadata": {},
   "source": [
    "getting data ready for further step, removing all special character from the reviews, coverting to lower form, removing stop words, word tokenizing"
   ]
  },
  {
   "cell_type": "code",
   "execution_count": 7,
   "id": "3a814bb1",
   "metadata": {},
   "outputs": [],
   "source": [
    "lemmatizer = WordNetLemmatizer()"
   ]
  },
  {
   "cell_type": "code",
   "execution_count": 8,
   "id": "90e15804",
   "metadata": {},
   "outputs": [],
   "source": [
    "def decontracted(phrase):\n",
    "    # specific\n",
    "    phrase = re.sub(r\"won\\'t\", \"will not\", phrase)\n",
    "    phrase = re.sub(r\"can\\'t\", \"can not\", phrase)\n",
    "\n",
    "    # general\n",
    "    phrase = re.sub(r\"n\\'t\", \" not\", phrase)\n",
    "    phrase = re.sub(r\"\\'re\", \" are\", phrase)\n",
    "    phrase = re.sub(r\"\\'s\", \" is\", phrase)\n",
    "    phrase = re.sub(r\"\\'d\", \" would\", phrase)\n",
    "    phrase = re.sub(r\"\\'ll\", \" will\", phrase)\n",
    "    phrase = re.sub(r\"\\'t\", \" not\", phrase)\n",
    "    phrase = re.sub(r\"\\'ve\", \" have\", phrase)\n",
    "    phrase = re.sub(r\"\\'m\", \" am\", phrase)\n",
    "    return phrase"
   ]
  },
  {
   "cell_type": "code",
   "execution_count": 9,
   "id": "c3222f80",
   "metadata": {},
   "outputs": [],
   "source": [
    "cr = []\n",
    "for i in range(0,len(dataset)):\n",
    "    cr.append(decontracted(dataset['review'][i]))"
   ]
  },
  {
   "cell_type": "code",
   "execution_count": 10,
   "id": "dd4bceab",
   "metadata": {},
   "outputs": [],
   "source": [
    "dataset['review1'] = pd.DataFrame(cr)"
   ]
  },
  {
   "cell_type": "code",
   "execution_count": 11,
   "id": "d4f023b3",
   "metadata": {},
   "outputs": [],
   "source": [
    "corpus = []\n",
    "for i in range(0, len(dataset)):\n",
    "    review = re.sub('[^a-zA-Z]', ' ', dataset['review1'][i])\n",
    "    review = review.lower()\n",
    "    review = review.split()\n",
    "    \n",
    "    review = [lemmatizer.lemmatize(word) for word in review if not word in stopwords]\n",
    "    review = ' '.join(review)\n",
    "    corpus.append(review)"
   ]
  },
  {
   "cell_type": "code",
   "execution_count": 12,
   "id": "fbaaf19a",
   "metadata": {},
   "outputs": [
    {
     "data": {
      "text/plain": [
       "list"
      ]
     },
     "execution_count": 12,
     "metadata": {},
     "output_type": "execute_result"
    }
   ],
   "source": [
    "type(corpus)"
   ]
  },
  {
   "cell_type": "code",
   "execution_count": 13,
   "id": "a924cf10",
   "metadata": {},
   "outputs": [],
   "source": [
    "X = pd.DataFrame(corpus,columns=['review'])\n",
    "y = dataset[['sentiment']]"
   ]
  },
  {
   "cell_type": "code",
   "execution_count": 14,
   "id": "e143d91e",
   "metadata": {},
   "outputs": [
    {
     "data": {
      "text/plain": [
       "'tied charger conversation lasting minute major problem'"
      ]
     },
     "execution_count": 14,
     "metadata": {},
     "output_type": "execute_result"
    }
   ],
   "source": [
    "X['review'][3]"
   ]
  },
  {
   "cell_type": "markdown",
   "id": "9964a61d",
   "metadata": {},
   "source": [
    "Creating the Bag of Words model"
   ]
  },
  {
   "cell_type": "code",
   "execution_count": 15,
   "id": "b1edb6b1",
   "metadata": {},
   "outputs": [],
   "source": [
    "from sklearn.feature_extraction.text import CountVectorizer"
   ]
  },
  {
   "cell_type": "code",
   "execution_count": 16,
   "id": "d56dfb20",
   "metadata": {},
   "outputs": [],
   "source": [
    "cv = CountVectorizer()"
   ]
  },
  {
   "cell_type": "code",
   "execution_count": 17,
   "id": "f080706f",
   "metadata": {},
   "outputs": [],
   "source": [
    "X = cv.fit_transform(X['review']).toarray()"
   ]
  },
  {
   "cell_type": "code",
   "execution_count": 18,
   "id": "44ea2de1",
   "metadata": {},
   "outputs": [],
   "source": [
    "y = y.to_numpy()"
   ]
  },
  {
   "cell_type": "markdown",
   "id": "e34b9e28",
   "metadata": {},
   "source": [
    "Train Test Split"
   ]
  },
  {
   "cell_type": "code",
   "execution_count": 19,
   "id": "802c0255",
   "metadata": {},
   "outputs": [],
   "source": [
    "from sklearn.model_selection import train_test_split"
   ]
  },
  {
   "cell_type": "code",
   "execution_count": 20,
   "id": "fe3f0918",
   "metadata": {},
   "outputs": [],
   "source": [
    "X_train,X_test,y_train,y_test=train_test_split(X,y,test_size=0.3,random_state=40,stratify=y)"
   ]
  },
  {
   "cell_type": "markdown",
   "id": "f6553d43",
   "metadata": {},
   "source": [
    "### Now lets build and run ML models"
   ]
  },
  {
   "cell_type": "markdown",
   "id": "5825647e",
   "metadata": {},
   "source": [
    "### Random Forest"
   ]
  },
  {
   "cell_type": "code",
   "execution_count": 21,
   "id": "8fd9a4b9",
   "metadata": {},
   "outputs": [],
   "source": [
    "from sklearn.ensemble import RandomForestClassifier"
   ]
  },
  {
   "cell_type": "code",
   "execution_count": 22,
   "id": "b72afde3",
   "metadata": {},
   "outputs": [
    {
     "data": {
      "text/plain": [
       "RandomForestClassifier(criterion='entropy', n_estimators=200, random_state=55)"
      ]
     },
     "execution_count": 22,
     "metadata": {},
     "output_type": "execute_result"
    }
   ],
   "source": [
    "randomclassifier=RandomForestClassifier(n_estimators=200,criterion='entropy',random_state = 55)\n",
    "randomclassifier.fit(X_train,y_train)"
   ]
  },
  {
   "cell_type": "code",
   "execution_count": 23,
   "id": "5566b63c",
   "metadata": {},
   "outputs": [],
   "source": [
    "y_pred_rf = randomclassifier.predict(X_test)"
   ]
  },
  {
   "cell_type": "code",
   "execution_count": 24,
   "id": "098b0b14",
   "metadata": {},
   "outputs": [],
   "source": [
    "## Import library to check accuracy\n",
    "from sklearn.metrics import classification_report,confusion_matrix,accuracy_score"
   ]
  },
  {
   "cell_type": "code",
   "execution_count": 25,
   "id": "03acdcf3",
   "metadata": {},
   "outputs": [
    {
     "name": "stdout",
     "output_type": "stream",
     "text": [
      "0.83\n",
      "              precision    recall  f1-score   support\n",
      "\n",
      "           0       0.80      0.89      0.84       150\n",
      "           1       0.87      0.77      0.82       150\n",
      "\n",
      "    accuracy                           0.83       300\n",
      "   macro avg       0.83      0.83      0.83       300\n",
      "weighted avg       0.83      0.83      0.83       300\n",
      "\n"
     ]
    }
   ],
   "source": [
    "score=accuracy_score(y_test,y_pred_rf)\n",
    "print(score)\n",
    "report=classification_report(y_test,y_pred_rf)\n",
    "print(report)"
   ]
  },
  {
   "cell_type": "code",
   "execution_count": 26,
   "id": "e5670b5a",
   "metadata": {},
   "outputs": [
    {
     "data": {
      "image/png": "[encoded data removed]",
      "text/plain": [
       "<Figure size 432x288 with 2 Axes>"
      ]
     },
     "metadata": {
      "needs_background": "light"
     },
     "output_type": "display_data"
    }
   ],
   "source": [
    "cm_rf = confusion_matrix(y_test, y_pred_rf)\n",
    "plt.title('Heatmap of Confusion RF', fontsize = 15)\n",
    "sns.heatmap(cm_rf, annot = True)\n",
    "plt.show()"
   ]
  },
  {
   "cell_type": "code",
   "execution_count": 27,
   "id": "5e57b2ca",
   "metadata": {},
   "outputs": [],
   "source": [
    "def print_confusion_matrix(y_true, y_pred):\n",
    "    cm = confusion_matrix(y_true, y_pred)\n",
    "    print('True negative = ', cm[0][0])\n",
    "    print('False negative = ', cm[1][0])\n",
    "    print('False positive = ', cm[0][1])\n",
    "    print('True positive = ', cm[1][1])"
   ]
  },
  {
   "cell_type": "code",
   "execution_count": 28,
   "id": "8a7220b1",
   "metadata": {},
   "outputs": [
    {
     "name": "stdout",
     "output_type": "stream",
     "text": [
      "True negative =  133\n",
      "False negative =  34\n",
      "False positive =  17\n",
      "True positive =  116\n"
     ]
    }
   ],
   "source": [
    "print_confusion_matrix(y_test, y_pred_rf)"
   ]
  },
  {
   "cell_type": "code",
   "execution_count": 29,
   "id": "72a15d71",
   "metadata": {},
   "outputs": [
    {
     "data": {
      "text/plain": [
       "0.8197879858657243"
      ]
     },
     "execution_count": 29,
     "metadata": {},
     "output_type": "execute_result"
    }
   ],
   "source": [
    "fb_rf = fbeta_score(y_test, y_pred_rf, beta=1)\n",
    "fb_rf"
   ]
  },
  {
   "cell_type": "markdown",
   "id": "bf877527",
   "metadata": {},
   "source": [
    "### SVM"
   ]
  },
  {
   "cell_type": "markdown",
   "id": "3f1d6818",
   "metadata": {},
   "source": [
    "Support Vector Machines with a linear kernel."
   ]
  },
  {
   "cell_type": "code",
   "execution_count": 30,
   "id": "c8be63f3",
   "metadata": {},
   "outputs": [],
   "source": [
    "from sklearn.svm import LinearSVC"
   ]
  },
  {
   "cell_type": "code",
   "execution_count": 31,
   "id": "14613b3d",
   "metadata": {},
   "outputs": [
    {
     "name": "stdout",
     "output_type": "stream",
     "text": [
      "Accuracy for C=0.01: 0.82\n",
      "Accuracy for C=0.05: 0.8\n",
      "Accuracy for C=0.25: 0.8133333333333334\n",
      "Accuracy for C=0.5: 0.8133333333333334\n",
      "Accuracy for C=1: 0.8066666666666666\n"
     ]
    }
   ],
   "source": [
    "\n",
    "for c in [0.01, 0.05, 0.25, 0.5, 1]:\n",
    "    \n",
    "    svm = LinearSVC(C=c)\n",
    "    svm.fit(X_train, y_train)\n",
    "    print (\"Accuracy for C=%s: %s\" \n",
    "           % (c, accuracy_score(y_test, svm.predict(X_test))))"
   ]
  },
  {
   "cell_type": "markdown",
   "id": "4b7125aa",
   "metadata": {},
   "source": [
    "we will select c = 0.01 as it has best accuracy"
   ]
  },
  {
   "cell_type": "code",
   "execution_count": 32,
   "id": "54e1acee",
   "metadata": {},
   "outputs": [],
   "source": [
    "svm = LinearSVC(C=0.01)"
   ]
  },
  {
   "cell_type": "code",
   "execution_count": 33,
   "id": "3ae34d10",
   "metadata": {},
   "outputs": [
    {
     "data": {
      "text/plain": [
       "LinearSVC(C=0.01)"
      ]
     },
     "execution_count": 33,
     "metadata": {},
     "output_type": "execute_result"
    }
   ],
   "source": [
    "svm.fit(X_train, y_train)"
   ]
  },
  {
   "cell_type": "code",
   "execution_count": 34,
   "id": "08d3bb17",
   "metadata": {},
   "outputs": [],
   "source": [
    "y_pred_sv = svm.predict(X_test)"
   ]
  },
  {
   "cell_type": "code",
   "execution_count": 35,
   "id": "f6b0ce9f",
   "metadata": {},
   "outputs": [
    {
     "data": {
      "text/plain": [
       "0.82"
      ]
     },
     "execution_count": 35,
     "metadata": {},
     "output_type": "execute_result"
    }
   ],
   "source": [
    "accuracy_score(y_test,y_pred_sv)"
   ]
  },
  {
   "cell_type": "code",
   "execution_count": 36,
   "id": "2d2bd407",
   "metadata": {},
   "outputs": [
    {
     "data": {
      "image/png": "[encoded data removed]",
      "text/plain": [
       "<Figure size 432x288 with 2 Axes>"
      ]
     },
     "metadata": {
      "needs_background": "light"
     },
     "output_type": "display_data"
    }
   ],
   "source": [
    "cm_sv = confusion_matrix(y_test, y_pred_sv)\n",
    "plt.title('Heatmap of Confusion Matrix for SVM', fontsize = 15)\n",
    "sns.heatmap(cm_sv, annot = True)\n",
    "plt.show()"
   ]
  },
  {
   "cell_type": "code",
   "execution_count": 37,
   "id": "2f428f71",
   "metadata": {},
   "outputs": [
    {
     "name": "stdout",
     "output_type": "stream",
     "text": [
      "True negative =  130\n",
      "False negative =  34\n",
      "False positive =  20\n",
      "True positive =  116\n"
     ]
    }
   ],
   "source": [
    "print_confusion_matrix(y_test, y_pred_sv)"
   ]
  },
  {
   "cell_type": "code",
   "execution_count": 38,
   "id": "af4f4d5e",
   "metadata": {},
   "outputs": [
    {
     "data": {
      "text/plain": [
       "0.8111888111888111"
      ]
     },
     "execution_count": 38,
     "metadata": {},
     "output_type": "execute_result"
    }
   ],
   "source": [
    "fb_sv = fbeta_score(y_test, y_pred_sv, beta=1)\n",
    "fb_sv"
   ]
  },
  {
   "cell_type": "markdown",
   "id": "0c1d14e5",
   "metadata": {},
   "source": [
    "### NaiveBayes Classifier"
   ]
  },
  {
   "cell_type": "code",
   "execution_count": 39,
   "id": "1b02d5a6",
   "metadata": {},
   "outputs": [],
   "source": [
    "# train a Gaussian Naive Bayes classifier on the training set\n",
    "from sklearn.naive_bayes import GaussianNB\n"
   ]
  },
  {
   "cell_type": "code",
   "execution_count": 40,
   "id": "c25747fb",
   "metadata": {},
   "outputs": [
    {
     "data": {
      "text/plain": [
       "GaussianNB()"
      ]
     },
     "execution_count": 40,
     "metadata": {},
     "output_type": "execute_result"
    }
   ],
   "source": [
    "gnb = GaussianNB()\n",
    "gnb.fit(X_train, y_train)"
   ]
  },
  {
   "cell_type": "code",
   "execution_count": 41,
   "id": "539e8baa",
   "metadata": {},
   "outputs": [],
   "source": [
    "y_pred_nb = gnb.predict(X_test)"
   ]
  },
  {
   "cell_type": "code",
   "execution_count": 42,
   "id": "0ceafbc1",
   "metadata": {},
   "outputs": [
    {
     "data": {
      "text/plain": [
       "0.7066666666666667"
      ]
     },
     "execution_count": 42,
     "metadata": {},
     "output_type": "execute_result"
    }
   ],
   "source": [
    "accuracy_score(y_test,y_pred_nb)"
   ]
  },
  {
   "cell_type": "code",
   "execution_count": 43,
   "id": "378bccf5",
   "metadata": {},
   "outputs": [
    {
     "data": {
      "image/png": "[encoded data removed]",
      "text/plain": [
       "<Figure size 432x288 with 2 Axes>"
      ]
     },
     "metadata": {
      "needs_background": "light"
     },
     "output_type": "display_data"
    }
   ],
   "source": [
    "cm_nb = confusion_matrix(y_test, y_pred_nb)\n",
    "plt.title('Heatmap of Confusion Matrix for Naive Bayes', fontsize = 15)\n",
    "sns.heatmap(cm_nb, annot = True)\n",
    "plt.show()"
   ]
  },
  {
   "cell_type": "code",
   "execution_count": 44,
   "id": "6a64d4de",
   "metadata": {},
   "outputs": [
    {
     "name": "stdout",
     "output_type": "stream",
     "text": [
      "True negative =  87\n",
      "False negative =  25\n",
      "False positive =  63\n",
      "True positive =  125\n"
     ]
    }
   ],
   "source": [
    "print_confusion_matrix(y_test, y_pred_nb)"
   ]
  },
  {
   "cell_type": "code",
   "execution_count": 45,
   "id": "45ebbba0",
   "metadata": {},
   "outputs": [
    {
     "data": {
      "text/plain": [
       "0.7396449704142012"
      ]
     },
     "execution_count": 45,
     "metadata": {},
     "output_type": "execute_result"
    }
   ],
   "source": [
    "fb_nb = fbeta_score(y_test, y_pred_nb, beta=1)\n",
    "fb_nb"
   ]
  },
  {
   "cell_type": "markdown",
   "id": "b6698277",
   "metadata": {},
   "source": [
    "## Logistic Regression"
   ]
  },
  {
   "cell_type": "code",
   "execution_count": 46,
   "id": "962ce075",
   "metadata": {},
   "outputs": [],
   "source": [
    "from sklearn.linear_model import LogisticRegression"
   ]
  },
  {
   "cell_type": "code",
   "execution_count": 47,
   "id": "6bfd115d",
   "metadata": {},
   "outputs": [
    {
     "name": "stdout",
     "output_type": "stream",
     "text": [
      "Accuracy for C=0.01: 0.8266666666666667\n",
      "Accuracy for C=0.05: 0.8166666666666667\n",
      "Accuracy for C=0.25: 0.8\n",
      "Accuracy for C=0.5: 0.8033333333333333\n",
      "Accuracy for C=1: 0.8133333333333334\n"
     ]
    }
   ],
   "source": [
    "for c in [0.01, 0.05, 0.25, 0.5, 1]:\n",
    "    \n",
    "    lr = LogisticRegression(C=c)\n",
    "    lr.fit(X_train, y_train)\n",
    "    print (\"Accuracy for C=%s: %s\" \n",
    "           % (c, accuracy_score(y_test, lr.predict(X_test))))\n",
    "    \n",
    "\n",
    "    \n",
    "# final_wc = LogisticRegression(C=0.05)\n",
    "# final_wc.fit(X, target)\n",
    "# print (\"Final Accuracy: %s\" \n",
    "#        % accuracy_score(target, final_wc.predict(X_test)))\n",
    "\n"
   ]
  },
  {
   "cell_type": "markdown",
   "id": "dc3d850a",
   "metadata": {},
   "source": [
    "we will select c = 0.01 as it has best accuracy"
   ]
  },
  {
   "cell_type": "code",
   "execution_count": 48,
   "id": "3a2bf543",
   "metadata": {},
   "outputs": [],
   "source": [
    "lr = LogisticRegression(C=0.01)"
   ]
  },
  {
   "cell_type": "code",
   "execution_count": 49,
   "id": "047aec4c",
   "metadata": {},
   "outputs": [
    {
     "data": {
      "text/plain": [
       "LogisticRegression(C=0.01)"
      ]
     },
     "execution_count": 49,
     "metadata": {},
     "output_type": "execute_result"
    }
   ],
   "source": [
    "lr.fit(X_train,y_train)"
   ]
  },
  {
   "cell_type": "code",
   "execution_count": 50,
   "id": "dbd1e6ee",
   "metadata": {},
   "outputs": [],
   "source": [
    "y_pred_lr = lr.predict(X_test)"
   ]
  },
  {
   "cell_type": "code",
   "execution_count": 51,
   "id": "d964b654",
   "metadata": {},
   "outputs": [
    {
     "data": {
      "text/plain": [
       "0.8266666666666667"
      ]
     },
     "execution_count": 51,
     "metadata": {},
     "output_type": "execute_result"
    }
   ],
   "source": [
    "accuracy_score(y_test,y_pred_lr)"
   ]
  },
  {
   "cell_type": "code",
   "execution_count": 52,
   "id": "0c04c86c",
   "metadata": {},
   "outputs": [
    {
     "data": {
      "image/png": "[encoded data removed]",
      "text/plain": [
       "<Figure size 432x288 with 2 Axes>"
      ]
     },
     "metadata": {
      "needs_background": "light"
     },
     "output_type": "display_data"
    }
   ],
   "source": [
    "cm_lr = confusion_matrix(y_test, y_pred_lr)\n",
    "plt.title('Heatmap of Confusion Matrix for Logistic Regression', fontsize = 15)\n",
    "sns.heatmap(cm_lr, annot = True)\n",
    "plt.show()"
   ]
  },
  {
   "cell_type": "code",
   "execution_count": 53,
   "id": "9d906dbb",
   "metadata": {},
   "outputs": [
    {
     "name": "stdout",
     "output_type": "stream",
     "text": [
      "True negative =  119\n",
      "False negative =  21\n",
      "False positive =  31\n",
      "True positive =  129\n"
     ]
    }
   ],
   "source": [
    "print_confusion_matrix(y_test, y_pred_lr)"
   ]
  },
  {
   "cell_type": "code",
   "execution_count": 54,
   "id": "e37bcd54",
   "metadata": {},
   "outputs": [
    {
     "data": {
      "text/plain": [
       "0.8322580645161289"
      ]
     },
     "execution_count": 54,
     "metadata": {},
     "output_type": "execute_result"
    }
   ],
   "source": [
    "fb_lr = fbeta_score(y_test, y_pred_lr, beta=1)\n",
    "fb_lr"
   ]
  },
  {
   "cell_type": "markdown",
   "id": "fd6d3323",
   "metadata": {},
   "source": [
    "## Final Result"
   ]
  },
  {
   "cell_type": "code",
   "execution_count": 55,
   "id": "91eb3aff",
   "metadata": {},
   "outputs": [
    {
     "name": "stdout",
     "output_type": "stream",
     "text": [
      "The best F1 score is 0.8322581 for Logistic Regression model.\n"
     ]
    }
   ],
   "source": [
    "list = [fb_lr,fb_rf,fb_sv,fb_nb]\n",
    "\n",
    "\n",
    "if (fb_sv == max(list)):\n",
    "    print('The best F1 score is {:.7f} for SupportVector Machine model.'.format(fb_sv))\n",
    "elif (fb_lr == max(list)):\n",
    "    print('The best F1 score is {:.7f} for Logistic Regression model.'.format(fb_lr))\n",
    "elif (fb_nb == max(list)):\n",
    "    print('The best F1 score is {:.7f} for NaiveBayes model.'.format(fb_nb))\n",
    "else: \n",
    "    print('The best F1 score is {:.7f} for Random Forest model.'.format(fb_rf))"
   ]
  },
  {
   "cell_type": "code",
   "execution_count": null,
   "id": "b3deda88",
   "metadata": {},
   "outputs": [],
   "source": []
  }
 ],
 "metadata": {
  "kernelspec": {
   "display_name": "Python 3",
   "language": "python",
   "name": "python3"
  },
  "language_info": {
   "codemirror_mode": {
    "name": "ipython",
    "version": 3
   },
   "file_extension": ".py",
   "mimetype": "text/x-python",
   "name": "python",
   "nbconvert_exporter": "python",
   "pygments_lexer": "ipython3",
   "version": "3.7.6"
  }
 },
 "nbformat": 4,
 "nbformat_minor": 5
}
